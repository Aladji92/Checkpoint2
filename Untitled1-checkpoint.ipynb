{
 "cells": [
  {
   "cell_type": "code",
   "execution_count": 4,
   "id": "29aee5b0",
   "metadata": {},
   "outputs": [
    {
     "name": "stdout",
     "output_type": "stream",
     "text": [
      "0 nul\n"
     ]
    }
   ],
   "source": [
    "x = 0\n",
    "if x > 0:\n",
    "    print(x, 'positif')\n",
    "elif x == 0:\n",
    "    print(x, 'nul')\n",
    "\n",
    "else:\n",
    "    print(x, 'negatif')"
   ]
  },
  {
   "cell_type": "code",
   "execution_count": 5,
   "id": "bee65870",
   "metadata": {},
   "outputs": [
    {
     "data": {
      "text/plain": [
       "False"
      ]
     },
     "execution_count": 5,
     "metadata": {},
     "output_type": "execute_result"
    }
   ],
   "source": [
    "x < 0 "
   ]
  },
  {
   "cell_type": "code",
   "execution_count": 6,
   "id": "a2d43a93",
   "metadata": {},
   "outputs": [
    {
     "data": {
      "text/plain": [
       "False"
      ]
     },
     "execution_count": 6,
     "metadata": {},
     "output_type": "execute_result"
    }
   ],
   "source": [
    "x > 0"
   ]
  },
  {
   "cell_type": "code",
   "execution_count": 3,
   "id": "ff7246d6",
   "metadata": {},
   "outputs": [],
   "source": [
    "x = 0"
   ]
  },
  {
   "cell_type": "code",
   "execution_count": 7,
   "id": "564f20bf",
   "metadata": {},
   "outputs": [
    {
     "name": "stdout",
     "output_type": "stream",
     "text": [
      "test 0\n"
     ]
    }
   ],
   "source": [
    "print(\"test {}\".format(x))"
   ]
  },
  {
   "cell_type": "code",
   "execution_count": 10,
   "id": "feee786e",
   "metadata": {},
   "outputs": [
    {
     "name": "stdout",
     "output_type": "stream",
     "text": [
      "entrer un nombre6\n",
      "le factoriel de 6 est 720\n"
     ]
    }
   ],
   "source": [
    "a = int(input(\"entrer un nombre\"))\n",
    "f = 1\n",
    "for i in range(1, a+1):\n",
    "    f = f*i\n",
    "print(\"le factoriel de {} est {}\".format(a, f))"
   ]
  },
  {
   "cell_type": "raw",
   "id": "fcc4d68a",
   "metadata": {},
   "source": [
    "nb = int(input(veillez saisir un nombre))\n",
    "for i in range(1, nb+1) :\n",
    "    "
   ]
  }
 ],
 "metadata": {
  "kernelspec": {
   "display_name": "Python 3 (ipykernel)",
   "language": "python",
   "name": "python3"
  },
  "language_info": {
   "codemirror_mode": {
    "name": "ipython",
    "version": 3
   },
   "file_extension": ".py",
   "mimetype": "text/x-python",
   "name": "python",
   "nbconvert_exporter": "python",
   "pygments_lexer": "ipython3",
   "version": "3.9.7"
  }
 },
 "nbformat": 4,
 "nbformat_minor": 5
}
